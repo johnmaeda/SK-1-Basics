{
 "cells": [
  {
   "cell_type": "markdown",
   "metadata": {},
   "source": [
    "# 🥸 Personas 101"
   ]
  },
  {
   "cell_type": "markdown",
   "metadata": {},
   "source": [
    "## 🏁 Let's kick this off with the right packages"
   ]
  },
  {
   "cell_type": "code",
   "execution_count": null,
   "metadata": {
    "dotnet_interactive": {
     "language": "csharp"
    },
    "polyglot_notebook": {
     "kernelName": "csharp"
    },
    "vscode": {
     "languageId": "polyglot-notebook"
    }
   },
   "outputs": [],
   "source": [
    "#r \"nuget: Microsoft.SemanticKernel, 1.3.0\"\n",
    "#r \"nuget: Microsoft.SemanticKernel.Experimental.Agents, 1.3.0-alpha\"\n",
    "#r \"nuget: YamlDotNet, 13.7.1\""
   ]
  },
  {
   "cell_type": "markdown",
   "metadata": {},
   "source": [
    "## 🔥 Fire up the kernel"
   ]
  },
  {
   "cell_type": "markdown",
   "metadata": {},
   "source": [
    "⚠️ Note that if you're going to use the function-calling capabilities of the kernel, you'll need a function-calling compatible model. Please refer to [this chart](https://platform.openai.com/docs/guides/function-calling) on OpenAI's site. Make sure your kernel is using a model that supports function calling.\n",
    "\n",
    "* gpt-4\n",
    "* gpt-4-1106-preview\n",
    "* gpt-4-0613\n",
    "* gpt-3.5-turbo\n",
    "* gpt-3.5-turbo-1106\n",
    "* gpt-3.5-turbo-0613"
   ]
  },
  {
   "cell_type": "code",
   "execution_count": null,
   "metadata": {
    "dotnet_interactive": {
     "language": "csharp"
    },
    "polyglot_notebook": {
     "kernelName": "csharp"
    },
    "vscode": {
     "languageId": "polyglot-notebook"
    }
   },
   "outputs": [],
   "source": [
    "// Load settings\n",
    "#!import config/Settings.cs \n",
    "#!import config/Utils.cs\n",
    "\n",
    "using Microsoft.SemanticKernel;\n",
    "using Microsoft.SemanticKernel.Connectors.OpenAI;\n",
    "using Microsoft.Extensions.Logging;\n",
    "using Kernel = Microsoft.SemanticKernel.Kernel;\n",
    "\n",
    "Kernel kernel;\n",
    "\n",
    "var (useAzureOpenAI, model, azureEndpoint, apiKey, orgId) = Settings.LoadFromFile();\n",
    "\n",
    "const string OpenAIFunctionEnabledModel = \"gpt-4-1106-preview\";\n",
    "\n",
    "if (useAzureOpenAI) {\n",
    "    kernel = Kernel.CreateBuilder()\n",
    "        .AddAzureOpenAIChatCompletion(model, azureEndpoint, apiKey)\n",
    "        .Build();\n",
    "} else {\n",
    "    kernel = Kernel.CreateBuilder()\n",
    "        .AddOpenAIChatCompletion(OpenAIFunctionEnabledModel, apiKey, orgId)\n",
    "        .Build();\n",
    "}"
   ]
  },
  {
   "cell_type": "markdown",
   "metadata": {},
   "source": [
    "## 🧱 We lay the foundations for Personas to work. Names turn out to be useful."
   ]
  },
  {
   "cell_type": "code",
   "execution_count": null,
   "metadata": {
    "dotnet_interactive": {
     "language": "csharp"
    },
    "polyglot_notebook": {
     "kernelName": "csharp"
    },
    "vscode": {
     "languageId": "polyglot-notebook"
    }
   },
   "outputs": [],
   "source": [
    "using System.IO;\n",
    "using YamlDotNet.Serialization;\n",
    "using YamlDotNet.Serialization.NamingConventions;\n",
    "using System;\n",
    "using System.Collections.Generic;\n",
    "using System.Linq;\n",
    "using System.Threading.Tasks;\n",
    "using Microsoft.SemanticKernel.Experimental.Agents;\n",
    "\n",
    "#pragma warning disable SKEXP0101\n",
    "\n",
    "public class Personay\n",
    "{\n",
    "    public string Name { get; set; }\n",
    "    public string Instructions { get; set; }\n",
    "    public string Description { get; set; }\n",
    "}\n",
    "\n",
    "public class NameGenerator\n",
    "{\n",
    "    private List<string> names;\n",
    "    private int currentIndex = -1;\n",
    "\n",
    "    public NameGenerator()\n",
    "    {\n",
    "        // Initialize the list with ungendered names\n",
    "        names = new List<string>\n",
    "        {\n",
    "            \"Alex\", \"Jordan\", \"Taylor\", \"Morgan\", \"Casey\",\n",
    "            \"Riley\", \"Jamie\", \"Avery\", \"Reese\", \"Skyler\",\n",
    "            \"Quinn\", \"Peyton\", \"Cameron\", \"Sawyer\", \"Drew\",\n",
    "            \"Charlie\", \"Emerson\", \"Dakota\", \"Parker\", \"Sidney\"\n",
    "        };\n",
    "    }\n",
    "\n",
    "    public string GetNextName()\n",
    "    {\n",
    "        // Increment the index and reset if it exceeds the list count\n",
    "        currentIndex = (currentIndex + 1) % names.Count;\n",
    "        return names[currentIndex];\n",
    "    }\n",
    "}\n",
    "\n",
    " // Track agents for clean-up\n",
    "static readonly Dictionary<string, IAgent> s_agents = new();\n",
    "\n",
    "IAgentThread? s_currentThread = null;\n",
    "\n",
    "async Task<IAgent> CreateAgentAsync(string name, string instructions, string description)\n",
    "{\n",
    "    var agent = await new AgentBuilder()\n",
    "                    .WithOpenAIChatCompletion(OpenAIFunctionEnabledModel, apiKey)\n",
    "                    .WithInstructions(instructions)\n",
    "                    .WithName(name)\n",
    "                    .WithDescription(description)\n",
    "                    .BuildAsync();\n",
    "\n",
    "    return Track(name, agent);\n",
    "}\n",
    "\n",
    "async Task CleanUpAsync()\n",
    "{\n",
    "    Console.WriteLine(\"🧽 Cleaning up ...\");\n",
    "\n",
    "    if (s_currentThread != null)\n",
    "    {\n",
    "        Console.WriteLine(\"Thread going away ...\");\n",
    "        s_currentThread.DeleteAsync();\n",
    "        s_currentThread = null;\n",
    "    }\n",
    "    \n",
    "    if (s_agents.Any())\n",
    "    {\n",
    "        Console.WriteLine(\"Agents going away ...\");\n",
    "        await Task.WhenAll(s_agents.Values.Select(agent => agent.DeleteAsync()));\n",
    "        s_agents.Clear();\n",
    "    }\n",
    "}\n",
    "\n",
    "IAgent Track(string name, IAgent agent)\n",
    "{\n",
    "    s_agents[name] = agent; // Add or update the agent in the dictionary\n",
    "    return agent;\n",
    "}\n"
   ]
  },
  {
   "cell_type": "markdown",
   "metadata": {},
   "source": [
    "## 🥸 We grab a YAML persona with name, instructions, description"
   ]
  },
  {
   "cell_type": "code",
   "execution_count": null,
   "metadata": {
    "dotnet_interactive": {
     "language": "csharp"
    },
    "polyglot_notebook": {
     "kernelName": "csharp"
    },
    "vscode": {
     "languageId": "polyglot-notebook"
    }
   },
   "outputs": [],
   "source": [
    "string myTeam = \"\";\n",
    "\n",
    "List<string> personasAvailable = [\"ContentCreator\", \"DigitalMarketer\"];\n",
    "\n",
    "List<(string Name, string Instructions, string Description)> agentInfo = new();\n",
    "NameGenerator nameGenerator = new NameGenerator();\n",
    "\n",
    "foreach (var (a, i) in personasAvailable.Select((value, idx) => (value, idx + 1)))\n",
    "{\n",
    "    var yaml = File.ReadAllText($\"Personas/{a}.yaml\");\n",
    "    var deserializer = new DeserializerBuilder()\n",
    "        .WithNamingConvention(CamelCaseNamingConvention.Instance) // Use camel case naming convention\n",
    "        .Build();\n",
    "    var p = deserializer.Deserialize<Personay>(yaml);\n",
    "    string fakeName = nameGenerator.GetNextName();\n",
    "    string desc = $\"{p.Name}: {p.Description}\";\n",
    "    string instr = p.Instructions;\n",
    "    agentInfo.Add((fakeName, instr, desc));\n",
    "    Console.WriteLine($\"Agent defined: {fakeName}\");\n",
    "    myTeam += $\"{i}) {fakeName} --> {desc}\\n\";\n",
    "}\n",
    "\n",
    "myTeam"
   ]
  },
  {
   "cell_type": "markdown",
   "metadata": {},
   "source": [
    "## 🐣 We're ready to hatch the agents"
   ]
  },
  {
   "cell_type": "code",
   "execution_count": null,
   "metadata": {
    "dotnet_interactive": {
     "language": "csharp"
    },
    "polyglot_notebook": {
     "kernelName": "csharp"
    },
    "vscode": {
     "languageId": "polyglot-notebook"
    }
   },
   "outputs": [],
   "source": [
    "#pragma warning disable SKEXP0101\n",
    "\n",
    "foreach (var (name, instructions, description) in agentInfo)\n",
    "{\n",
    "    await CreateAgentAsync(name, instructions, description);\n",
    "}\n",
    "\n",
    "s_agents"
   ]
  },
  {
   "cell_type": "markdown",
   "metadata": {},
   "source": [
    "## 🧑‍🤝‍🧑 You can view the team in a more human-readable form"
   ]
  },
  {
   "cell_type": "code",
   "execution_count": null,
   "metadata": {
    "dotnet_interactive": {
     "language": "csharp"
    },
    "polyglot_notebook": {
     "kernelName": "csharp"
    },
    "vscode": {
     "languageId": "polyglot-notebook"
    }
   },
   "outputs": [],
   "source": [
    "myTeam"
   ]
  },
  {
   "cell_type": "markdown",
   "metadata": {},
   "source": [
    "## 🔍 We can look at an individual agent (when there are many)"
   ]
  },
  {
   "cell_type": "code",
   "execution_count": null,
   "metadata": {
    "dotnet_interactive": {
     "language": "csharp"
    },
    "polyglot_notebook": {
     "kernelName": "csharp"
    },
    "vscode": {
     "languageId": "polyglot-notebook"
    }
   },
   "outputs": [],
   "source": [
    "s_agents[\"Alex\"] // just replace 'Alex' with the name of the agent you want to use instead"
   ]
  },
  {
   "cell_type": "markdown",
   "metadata": {},
   "source": [
    "## 🧵 Agents are run on threads. Let's make one."
   ]
  },
  {
   "cell_type": "code",
   "execution_count": null,
   "metadata": {
    "dotnet_interactive": {
     "language": "csharp"
    },
    "polyglot_notebook": {
     "kernelName": "csharp"
    },
    "vscode": {
     "languageId": "polyglot-notebook"
    }
   },
   "outputs": [],
   "source": [
    "#pragma warning disable SKEXP0101\n",
    "\n",
    "// note that threads aren't attached to specific agents\n",
    "s_currentThread = await s_agents[\"Alex\"].NewThreadAsync();\n",
    "\n",
    "Console.WriteLine(\"Your thread 🧵 is ready!\");"
   ]
  },
  {
   "cell_type": "markdown",
   "metadata": {},
   "source": [
    "## 🏃 Your messages (as `user`) get sent to the thread, and get invoked by an agent"
   ]
  },
  {
   "cell_type": "code",
   "execution_count": null,
   "metadata": {
    "dotnet_interactive": {
     "language": "csharp"
    },
    "polyglot_notebook": {
     "kernelName": "csharp"
    },
    "vscode": {
     "languageId": "polyglot-notebook"
    }
   },
   "outputs": [],
   "source": [
    "#pragma warning disable SKEXP0101\n",
    "\n",
    "string whichAgent = \"Alex\";\n",
    "\n",
    "var messages = new string[]\n",
    "{\n",
    "//    \"Write a 100 word blog post about the benefits of using a chatbot.\",\n",
    "//    \"Write a headline for the blog post.\",\n",
    "//    \"Write a binding contract in the state of Louisiana.\",\n",
    "    \"Operate a forklift for me\",\n",
    "};\n",
    "\n",
    "foreach (var response in messages.Select(m => s_currentThread.InvokeAsync(s_agents[whichAgent], m)))\n",
    "{\n",
    "    await foreach (var message in response)\n",
    "    {\n",
    "        // Console.WriteLine($\"[{message.Id}]\");\n",
    "        string speaker = message.Role == \"user\" ? \"You\" : whichAgent;\n",
    "        Console.WriteLine(Utils.WordWrap($\"# {speaker}: {message.Content}\",80));\n",
    "    }   \n",
    "}"
   ]
  },
  {
   "cell_type": "markdown",
   "metadata": {},
   "source": [
    "## 💬 Messages from you can be added to the thread without invocation"
   ]
  },
  {
   "cell_type": "markdown",
   "metadata": {},
   "source": [
    "We can, for instance, drop news stories into the thread like so:"
   ]
  },
  {
   "cell_type": "code",
   "execution_count": null,
   "metadata": {
    "dotnet_interactive": {
     "language": "csharp"
    },
    "polyglot_notebook": {
     "kernelName": "csharp"
    },
    "vscode": {
     "languageId": "polyglot-notebook"
    }
   },
   "outputs": [],
   "source": [
    "#pragma warning disable SKEXP0101\n",
    "\n",
    "await s_currentThread.AddUserMessageAsync(\n",
    "\"\"\"\n",
    "- Interview subject: Ella Dupont, owner of Whiskers the cat.\n",
    "- Location: French Quarter, New Orleans.\n",
    "- Incident: Whiskers, a tabby cat, escaped from home early morning.\n",
    "- Community Response: Local residents and shopkeepers reported sightings.\n",
    "- Recognition: Whiskers identified from flyers distributed by Dupont.\n",
    "- Recovery: Found near St. Louis Cathedral by tourists.\n",
    "- Dupont's statement: Expresses gratitude towards the community for assistance in finding Whiskers. Highlights the close-knit nature of the neighborhood.\n",
    "\"\"\");\n",
    "\n",
    "await s_currentThread.AddUserMessageAsync(\n",
    "\"\"\"\n",
    "- Incident Type: Robbery\n",
    "- Location: Downtown Commercial Bank, Main Street\n",
    "- Time of Incident: Approximately 10:30 AM\n",
    "- Suspects: Two individuals, descriptions vague; one reportedly wearing a dark hoodie and sunglasses, the other in a baseball cap.\n",
    "- Method: Entered the bank, threatened the cashier with a note demanding money. No weapons seen.\n",
    "- Response: Bank's alarm triggered, police arrived within minutes.\n",
    "- Eyewitness Accounts: Bank customers describe suspects as calm, quick. No physical harm reported.\n",
    "- Amount Stolen: Undisclosed sum of money, still being assessed by bank officials.\n",
    "- Police Statement: Investigation underway, reviewing surveillance footage. Public urged to come forward with any information.\n",
    "- Security Measures: Bank to review and enhance security protocols.\n",
    "- Community Reaction: Local businesses express concern, increase vigilance.\n",
    "\"\"\");"
   ]
  },
  {
   "cell_type": "markdown",
   "metadata": {},
   "source": [
    "## 🏃 That way you can leverage what's in the thread in a subsequent invocation"
   ]
  },
  {
   "cell_type": "markdown",
   "metadata": {},
   "source": [
    "And then direct `Alex` to write a story about anything that's been reported on the thread"
   ]
  },
  {
   "cell_type": "code",
   "execution_count": null,
   "metadata": {
    "dotnet_interactive": {
     "language": "csharp"
    },
    "polyglot_notebook": {
     "kernelName": "csharp"
    },
    "vscode": {
     "languageId": "polyglot-notebook"
    }
   },
   "outputs": [],
   "source": [
    "#pragma warning disable SKEXP0101\n",
    "\n",
    "string whichAgent = \"Alex\";\n",
    "string singleMessage = \"Write a 100-word, short news article about a recently reported incident.\";\n",
    "\n",
    "var response = s_currentThread.InvokeAsync(s_agents[whichAgent], singleMessage);\n",
    "await foreach (var message in response)\n",
    "{\n",
    "    string speaker = message.Role == \"user\" ? \"You\" : whichAgent;\n",
    "    Console.WriteLine(Utils.WordWrap($\"# {speaker}: {message.Content}\", 80));\n",
    "}"
   ]
  },
  {
   "cell_type": "code",
   "execution_count": null,
   "metadata": {
    "dotnet_interactive": {
     "language": "csharp"
    },
    "polyglot_notebook": {
     "kernelName": "csharp"
    },
    "vscode": {
     "languageId": "polyglot-notebook"
    }
   },
   "outputs": [],
   "source": [
    "#pragma warning disable SKEXP0101\n",
    "\n",
    "string whichAgent = \"Jordan\";\n",
    "string singleMessage = \"What's the digital marketing strategy for this new blog post?\";\n",
    "\n",
    "var response = s_currentThread.InvokeAsync(s_agents[whichAgent], singleMessage);\n",
    "await foreach (var message in response)\n",
    "{\n",
    "    string speaker = message.Role == \"user\" ? \"You\" : whichAgent;\n",
    "    Console.WriteLine(Utils.WordWrap($\"# {speaker}: {message.Content}\", 80));\n",
    "}"
   ]
  },
  {
   "cell_type": "markdown",
   "metadata": {},
   "source": [
    "## 🥸 Agents make a lot of junk, so be sure to do a cleanup before you're done"
   ]
  },
  {
   "cell_type": "code",
   "execution_count": null,
   "metadata": {
    "dotnet_interactive": {
     "language": "csharp"
    },
    "polyglot_notebook": {
     "kernelName": "csharp"
    },
    "vscode": {
     "languageId": "polyglot-notebook"
    }
   },
   "outputs": [],
   "source": [
    "await CleanUpAsync();"
   ]
  },
  {
   "cell_type": "markdown",
   "metadata": {},
   "source": [
    "# 💪 Let's go beyond turn-taking with agents\n",
    "\n",
    "Here we implement the pattern where two agents are controlled by one coordinating agent.\n",
    "\n",
    "## 📦 Gather the necessary personas"
   ]
  },
  {
   "cell_type": "code",
   "execution_count": null,
   "metadata": {
    "dotnet_interactive": {
     "language": "csharp"
    },
    "polyglot_notebook": {
     "kernelName": "csharp"
    },
    "vscode": {
     "languageId": "polyglot-notebook"
    }
   },
   "outputs": [],
   "source": [
    "string myTeam = \"\";\n",
    "\n",
    "List<string> personasAvailable = [\"ArtDirector\",\"CopyWriter\"];\n",
    "\n",
    "List<(string Name, string Instructions, string Description)> agentInfo = new();\n",
    "NameGenerator nameGenerator = new NameGenerator();\n",
    "\n",
    "foreach (var (a, i) in personasAvailable.Select((value, idx) => (value, idx + 1)))\n",
    "{\n",
    "    var yaml = File.ReadAllText($\"Personas/{a}.yaml\");\n",
    "    var deserializer = new DeserializerBuilder()\n",
    "        .WithNamingConvention(CamelCaseNamingConvention.Instance) // Use camel case naming convention\n",
    "        .Build();\n",
    "    var p = deserializer.Deserialize<Personay>(yaml);\n",
    "    string fakeName = nameGenerator.GetNextName();\n",
    "    string desc = $\"{p.Name}: {p.Description}\";\n",
    "    string instr = p.Instructions;\n",
    "    agentInfo.Add((fakeName, instr, desc));\n",
    "    Console.WriteLine($\"Agent defined: {fakeName}\");\n",
    "    myTeam += $\"{i}) {fakeName} --> {desc}\\n\";\n",
    "}\n",
    "\n",
    "myTeam"
   ]
  },
  {
   "cell_type": "markdown",
   "metadata": {},
   "source": [
    "## 🐣 Hatch the agents"
   ]
  },
  {
   "cell_type": "code",
   "execution_count": null,
   "metadata": {
    "dotnet_interactive": {
     "language": "csharp"
    },
    "polyglot_notebook": {
     "kernelName": "csharp"
    },
    "vscode": {
     "languageId": "polyglot-notebook"
    }
   },
   "outputs": [],
   "source": [
    "#pragma warning disable SKEXP0101\n",
    "\n",
    "foreach (var (name, instructions, description) in agentInfo)\n",
    "{\n",
    "    await CreateAgentAsync(name, instructions, description);\n",
    "}\n",
    "\n",
    "s_agents"
   ]
  },
  {
   "cell_type": "markdown",
   "metadata": {},
   "source": [
    "## 💬 Let the coordinator get the agents to work together"
   ]
  },
  {
   "cell_type": "code",
   "execution_count": null,
   "metadata": {
    "dotnet_interactive": {
     "language": "csharp"
    },
    "polyglot_notebook": {
     "kernelName": "csharp"
    },
    "vscode": {
     "languageId": "polyglot-notebook"
    }
   },
   "outputs": [],
   "source": [
    "#pragma warning disable SKEXP0101\n",
    "\n",
    "// Create coordinator agent to oversee collaboration\n",
    "var coordinator =\n",
    "    Track(\"Coordinator\",\n",
    "        await new AgentBuilder()\n",
    "            .WithOpenAIChatCompletion(OpenAIFunctionEnabledModel, apiKey)\n",
    "            .WithInstructions(\"Reply the provided concept and have the copy-writer generate an marketing idea (copy).  Then have the art-director reply to the copy-writer with a review of the copy.  Always include the source copy in any message.  Always include the art-director comments when interacting with the copy-writer.  Coordinate the repeated replies between the copy-writer and art-director until the art-director approves the copy.\")\n",
    "            .WithPlugin(s_agents[\"Jordan\"].AsPlugin())\n",
    "            .WithPlugin(s_agents[\"Alex\"].AsPlugin())\n",
    "            .BuildAsync());\n",
    "\n",
    "// Invoke as a plugin function\n",
    "var response = await coordinator.AsPlugin().InvokeAsync(\"concept: maps made out of egg cartons.\");\n",
    "\n",
    "// Display final result\n",
    "Console.WriteLine(response);"
   ]
  },
  {
   "cell_type": "markdown",
   "metadata": {},
   "source": [
    "## 🧼 It's always good to clean up"
   ]
  },
  {
   "cell_type": "code",
   "execution_count": null,
   "metadata": {
    "dotnet_interactive": {
     "language": "csharp"
    },
    "polyglot_notebook": {
     "kernelName": "csharp"
    },
    "vscode": {
     "languageId": "polyglot-notebook"
    }
   },
   "outputs": [],
   "source": [
    "await CleanUpAsync();"
   ]
  },
  {
   "cell_type": "markdown",
   "metadata": {},
   "source": [
    "# 🥱 You're still here? "
   ]
  },
  {
   "cell_type": "markdown",
   "metadata": {},
   "source": [
    "If you come back in a bit, I'll be adding:\n",
    "\n",
    "* Agents calling Plugins\n",
    "* Plans running as Plugins to be called by the Agents"
   ]
  }
 ],
 "metadata": {
  "language_info": {
   "name": "python"
  }
 },
 "nbformat": 4,
 "nbformat_minor": 2
}

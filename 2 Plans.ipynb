{
 "cells": [
  {
   "attachments": {},
   "cell_type": "markdown",
   "metadata": {},
   "source": [
    "# 🗺️ Plans 101"
   ]
  },
  {
   "cell_type": "markdown",
   "metadata": {},
   "source": [
    "## 🏁 Let's kick this off with the right packages"
   ]
  },
  {
   "cell_type": "code",
   "execution_count": null,
   "metadata": {
    "dotnet_interactive": {
     "language": "csharp"
    },
    "polyglot_notebook": {
     "kernelName": "csharp"
    }
   },
   "outputs": [],
   "source": [
    "#r \"nuget: Microsoft.SemanticKernel, 1.1.0\"\n",
    "#r \"nuget: Microsoft.SemanticKernel.Planners.Handlebars, 1.1.0-alpha\"\n",
    "#r \"nuget: Microsoft.SemanticKernel.Planners.OpenAI, 1.1.0-preview\"\n",
    "#r \"nuget: Microsoft.SemanticKernel.Plugins.Core, 1.1.0-alpha\"\n",
    "#r \"nuget: Microsoft.Extensions.Logging.Console, 8.0.0\""
   ]
  },
  {
   "cell_type": "markdown",
   "metadata": {},
   "source": [
    "## 🔥 Fire up the kernel"
   ]
  },
  {
   "cell_type": "markdown",
   "metadata": {},
   "source": [
    "⚠️ Note that if you're going to use the function-calling capabilities of the kernel, you'll need a function-calling compatible model. Please refer to [this chart](https://platform.openai.com/docs/guides/function-calling) on OpenAI's site. That's why in the example below I've inserted `gpt-4-1106-preview` into the slot because I tend to use function-calling a lot. But if you don't have access to that model on OpenAI, as of late January 2024 these models are possible as well:\n",
    "\n",
    "* gpt-4\n",
    "* gpt-4-1106-preview\n",
    "* gpt-4-0613\n",
    "* gpt-3.5-turbo\n",
    "* gpt-3.5-turbo-1106\n",
    "* gpt-3.5-turbo-0613"
   ]
  },
  {
   "cell_type": "code",
   "execution_count": null,
   "metadata": {
    "dotnet_interactive": {
     "language": "csharp"
    },
    "polyglot_notebook": {
     "kernelName": "csharp"
    }
   },
   "outputs": [],
   "source": [
    "#!import config/Settings.cs\n",
    "#!import config/Utils.cs\n",
    "\n",
    "using Microsoft.SemanticKernel;\n",
    "using Microsoft.SemanticKernel.Connectors.OpenAI;\n",
    "using Microsoft.SemanticKernel.Planning.Handlebars;\n",
    "using Microsoft.Extensions.Logging;\n",
    "using Kernel = Microsoft.SemanticKernel.Kernel;\n",
    "\n",
    "Kernel kernel;\n",
    "\n",
    "var (useAzureOpenAI, model, azureEndpoint, apiKey, orgId) = Settings.LoadFromFile();\n",
    "\n",
    "if (useAzureOpenAI) {\n",
    "    kernel = Kernel.CreateBuilder()\n",
    "        .AddAzureOpenAIChatCompletion(model, azureEndpoint, apiKey)\n",
    "        .Build();\n",
    "} else {\n",
    "    kernel = Kernel.CreateBuilder()\n",
    "        .AddOpenAIChatCompletion(\"gpt-4-1106-preview\", apiKey, orgId)\n",
    "        .Build();\n",
    "}"
   ]
  },
  {
   "cell_type": "markdown",
   "metadata": {},
   "source": [
    "## ⌚️ Let's add a native C# plugin for use by the planner"
   ]
  },
  {
   "cell_type": "code",
   "execution_count": null,
   "metadata": {
    "dotnet_interactive": {
     "language": "csharp"
    },
    "polyglot_notebook": {
     "kernelName": "csharp"
    }
   },
   "outputs": [],
   "source": [
    "using System.ComponentModel;\n",
    "using Microsoft.Extensions.Logging;\n",
    "using Microsoft.SemanticKernel;\n",
    "using Microsoft.SemanticKernel.Plugins.Core;\n",
    "\n",
    "public class TimeInformationPlugin\n",
    "{\n",
    "    [KernelFunction]\n",
    "    [Description(\"Retrieves the current time in UTC.\")]\n",
    "    public string GetCurrentUtcTime() => DateTime.UtcNow.ToString(\"R\");\n",
    "}\n",
    "\n",
    "kernel.ImportPluginFromType<TimeInformationPlugin>();"
   ]
  },
  {
   "cell_type": "markdown",
   "metadata": {},
   "source": [
    "## 📋 Let's keep track of all the plugins"
   ]
  },
  {
   "cell_type": "code",
   "execution_count": null,
   "metadata": {
    "dotnet_interactive": {
     "language": "csharp"
    },
    "polyglot_notebook": {
     "kernelName": "csharp"
    }
   },
   "outputs": [],
   "source": [
    "static void PrintAllPluginFunctions(Kernel kernel)\n",
    "{\n",
    "    var functions = kernel.Plugins.GetFunctionsMetadata();\n",
    "\n",
    "    Console.WriteLine(\"****** Registered 🔌 Plugins and 📦 Functions ******\");\n",
    "\n",
    "    foreach (KernelFunctionMetadata func in functions)\n",
    "    {\n",
    "        PrintPluginFunction(func);\n",
    "    }\n",
    "}\n",
    "\n",
    "static void PrintPluginFunction(KernelFunctionMetadata func)\n",
    "{\n",
    "    Console.WriteLine($\"🔌 {func.PluginName}\");\n",
    "    Console.WriteLine($\"   📦 /{func.Name}: {func.Description}\");\n",
    "\n",
    "    if (func.Parameters.Count > 0)\n",
    "    {\n",
    "        Console.WriteLine(\"      📥 Params:\");\n",
    "        foreach (var p in func.Parameters)\n",
    "        {\n",
    "            Console.WriteLine($\"       • {p.Name}: {p.Description} (default: '{p.DefaultValue}')\");\n",
    "        }\n",
    "    }\n",
    "}\n",
    "\n",
    "PrintAllPluginFunctions(kernel);"
   ]
  },
  {
   "cell_type": "markdown",
   "metadata": {},
   "source": [
    "## 🗺️🚲 Generate a Plan from an ask"
   ]
  },
  {
   "cell_type": "code",
   "execution_count": null,
   "metadata": {
    "dotnet_interactive": {
     "language": "csharp"
    },
    "polyglot_notebook": {
     "kernelName": "csharp"
    }
   },
   "outputs": [],
   "source": [
    "#pragma warning disable SKEXP0060\n",
    "\n",
    " var planner = new HandlebarsPlanner();\n",
    "\n",
    "var ask = @\"Provide the current time and the name of the first president of the United States.\";\n",
    "\n",
    "var newPlan = await planner.CreatePlanAsync(kernel, ask);\n",
    "\n",
    "Console.WriteLine(\"The proposed plan in Handlebars format:\\n\");\n",
    "Console.WriteLine(newPlan);"
   ]
  },
  {
   "cell_type": "markdown",
   "metadata": {},
   "source": [
    "## 🗺️🚲💨 Let's run the plan!\n",
    "\n",
    "Note that the final output is json but the planner strips the extra JSON syntax."
   ]
  },
  {
   "cell_type": "code",
   "execution_count": null,
   "metadata": {
    "dotnet_interactive": {
     "language": "csharp"
    },
    "polyglot_notebook": {
     "kernelName": "csharp"
    }
   },
   "outputs": [],
   "source": [
    "#pragma warning disable SKEXP0060\n",
    "\n",
    "var newPlanResult = await newPlan.InvokeAsync(kernel, new KernelArguments());\n",
    "\n",
    "newPlanResult\n"
   ]
  },
  {
   "cell_type": "markdown",
   "metadata": {},
   "source": [
    "### 🗳️ JSON is always a good flavor, so let's have that result instead"
   ]
  },
  {
   "cell_type": "code",
   "execution_count": null,
   "metadata": {
    "dotnet_interactive": {
     "language": "csharp"
    },
    "polyglot_notebook": {
     "kernelName": "csharp"
    }
   },
   "outputs": [],
   "source": [
    "var kk = Utils.KeyValuePairsStringToJson(newPlanResult);\n",
    "\n",
    "kk"
   ]
  },
  {
   "cell_type": "markdown",
   "metadata": {},
   "source": [
    "## 🗺️🧊 You can also take an AI-generated Plan and edit it yourself"
   ]
  },
  {
   "cell_type": "code",
   "execution_count": null,
   "metadata": {
    "dotnet_interactive": {
     "language": "csharp"
    },
    "polyglot_notebook": {
     "kernelName": "csharp"
    }
   },
   "outputs": [],
   "source": [
    "#pragma warning disable SKEXP0060\n",
    "\n",
    "string generatedPlanIsEditable =\n",
    "\"\"\"\n",
    "{{!-- Step 1: Retrieve the current UTC time --}}\n",
    "{{set \"currentTime\" (TimeInformationPlugin-GetCurrentUtcTime)}}\n",
    "\n",
    "{{!-- Step 2: Set the name of the first president of the United States --}}\n",
    "{{set \"firstName\" \"Jane\"}}\n",
    "{{set \"lastName\" \"Washington\"}}\n",
    "\n",
    "{{!-- Step 3: Output the current time and the name of the first president --}}\n",
    "{{json (concat \"Current UTC Time: \" currentTime \", First President: \" firstName \" \" lastName)}}\n",
    "\"\"\";\n",
    "\n",
    "HandlebarsPlan editedPlan = new HandlebarsPlan(generatedPlanIsEditable);\n",
    "\n",
    "var editedPlanResult = await editedPlan.InvokeAsync(kernel, new KernelArguments());\n",
    "\n",
    "editedPlanResult\n"
   ]
  },
  {
   "cell_type": "markdown",
   "metadata": {},
   "source": [
    "## 🗺️ 💾 And yes you can store that plan away for reuse"
   ]
  },
  {
   "cell_type": "markdown",
   "metadata": {},
   "source": [
    "There isn't a standard way to store and reuse plans, but this is an example of how you could do it in concept."
   ]
  },
  {
   "cell_type": "markdown",
   "metadata": {},
   "source": [
    "### 🏁 YAML's a convenient format to use"
   ]
  },
  {
   "cell_type": "code",
   "execution_count": null,
   "metadata": {
    "dotnet_interactive": {
     "language": "csharp"
    },
    "polyglot_notebook": {
     "kernelName": "csharp"
    }
   },
   "outputs": [],
   "source": [
    "#r \"nuget: YamlDotNet, 13.7.1\""
   ]
  },
  {
   "cell_type": "markdown",
   "metadata": {},
   "source": [
    "### ℹ The basic parameters you would want to store"
   ]
  },
  {
   "cell_type": "code",
   "execution_count": null,
   "metadata": {
    "dotnet_interactive": {
     "language": "csharp"
    },
    "polyglot_notebook": {
     "kernelName": "csharp"
    }
   },
   "outputs": [],
   "source": [
    "using System.IO;\n",
    "using YamlDotNet.Serialization;\n",
    "using YamlDotNet.Serialization.NamingConventions;\n",
    "\n",
    "public class Plany\n",
    "{\n",
    "    public string Name { get; set; }\n",
    "    public string Plan { get; set; }\n",
    "    public List<string> Plugins {get; set; }\n",
    "    public string Description { get; set; }\n",
    "}\n"
   ]
  },
  {
   "cell_type": "markdown",
   "metadata": {},
   "source": [
    "### 🍱 The trick would be how you would maintain your Plugins, but you get the gist of it here"
   ]
  },
  {
   "cell_type": "code",
   "execution_count": null,
   "metadata": {
    "dotnet_interactive": {
     "language": "csharp"
    },
    "polyglot_notebook": {
     "kernelName": "csharp"
    }
   },
   "outputs": [],
   "source": [
    "List<string> planNames = [\"TodayFirstPresident\"];\n",
    "List<Plany> allPlans = new List<Plany>();\n",
    "\n",
    "foreach(var plan in planNames)\n",
    "{\n",
    "    var yaml = File.ReadAllText($\"Plans/{plan}.yaml\");\n",
    "    var deserializer = new DeserializerBuilder()\n",
    "        .WithNamingConvention(CamelCaseNamingConvention.Instance)\n",
    "        .Build();\n",
    "\n",
    "    var p = deserializer.Deserialize<Plany>(yaml);\n",
    "    Console.WriteLine($\"Name: {p.Name}\\nPlan:\\n```\\n{p.Plan}```\\nPlugins: {string.Join(\", \", p.Plugins)}\\nDescription: {p.Description}\");\n",
    "\n",
    "    allPlans.Add(p);\n",
    "}"
   ]
  },
  {
   "cell_type": "markdown",
   "metadata": {},
   "source": [
    "### 🔌 🚚 Let's make a simple PluginLoader to let you run this YAML format\n",
    "\n",
    "There's not a single way to do this yet, but that shouldn't stop us from imagining the future and just running with it. For now ..."
   ]
  },
  {
   "cell_type": "code",
   "execution_count": null,
   "metadata": {
    "dotnet_interactive": {
     "language": "csharp"
    },
    "polyglot_notebook": {
     "kernelName": "csharp"
    }
   },
   "outputs": [],
   "source": [
    "using System;\n",
    "using System.Collections.Generic;\n",
    "using Microsoft.SemanticKernel;\n",
    "\n",
    "// This was defined up above in a previous cell, AND it was already registered\n",
    "//\n",
    "// public class TimeInformationPlugin\n",
    "// {\n",
    "//     [KernelFunction]\n",
    "//     [Description(\"Retrieves the current time in UTC.\")]\n",
    "//     public string GetCurrentUtcTime() => DateTime.UtcNow.ToString(\"R\");\n",
    "// }\n",
    "\n",
    "public class RandomMaedaInformationPlugin\n",
    "{\n",
    "    [KernelFunction]\n",
    "    [Description(\"Tells you something maeda randomly might say.\")]\n",
    "    public string GetCurrentUtcTime() => $\"{DateTime.UtcNow.ToString(\"R\")} says Maeda\";\n",
    "}\n",
    "\n",
    "public class PluginLoader\n",
    "{\n",
    "    private readonly Kernel kernel;\n",
    "    private readonly Dictionary<string, Action> pluginLoadActions;\n",
    "\n",
    "    public PluginLoader(Kernel kernel)\n",
    "    {\n",
    "        this.kernel = kernel ?? throw new ArgumentNullException(nameof(kernel));\n",
    "        pluginLoadActions = new Dictionary<string, Action>\n",
    "        {\n",
    "            { \"TimeInformationPlugin\", () => Import<TimeInformationPlugin>() },\n",
    "            { \"RandomMaedaInformationPlugin\", () => Import<RandomMaedaInformationPlugin>() }\n",
    "            // Add other plugins here...\n",
    "        };\n",
    "    }\n",
    "\n",
    "    private void Import<T>() where T : new()\n",
    "    {\n",
    "        var pluginName = typeof(T).Name;\n",
    "        if (!IsPluginLoaded(kernel, pluginName))\n",
    "        {\n",
    "            kernel.ImportPluginFromType<T>();\n",
    "        }\n",
    "        else\n",
    "        {\n",
    "            Console.WriteLine($\" >> 🔌 '{pluginName}' is already loaded\");\n",
    "        }\n",
    "    }\n",
    "\n",
    "    public void ImportPlugin(string pluginName)\n",
    "    {\n",
    "        if (pluginLoadActions.TryGetValue(pluginName, out var action))\n",
    "        {\n",
    "            action();\n",
    "        }\n",
    "        else\n",
    "        {\n",
    "            throw new InvalidOperationException(\" >> 🔌 Plugin not found\");\n",
    "        }\n",
    "    }\n",
    "\n",
    "    private static bool IsPluginLoaded(Kernel kernel, string pluginName)\n",
    "    {\n",
    "        var functions = kernel.Plugins.GetFunctionsMetadata();\n",
    "\n",
    "        foreach (KernelFunctionMetadata func in functions)\n",
    "        {\n",
    "            if (func.PluginName.Equals(pluginName, StringComparison.OrdinalIgnoreCase))\n",
    "            {\n",
    "                return true; \n",
    "            }\n",
    "        }\n",
    "\n",
    "        return false; \n",
    "    }\n",
    "}\n"
   ]
  },
  {
   "cell_type": "markdown",
   "metadata": {},
   "source": [
    "### 🚚 With this little loader, we can now run Plans with ... Plugins :+)."
   ]
  },
  {
   "cell_type": "code",
   "execution_count": null,
   "metadata": {
    "dotnet_interactive": {
     "language": "csharp"
    },
    "polyglot_notebook": {
     "kernelName": "csharp"
    }
   },
   "outputs": [],
   "source": [
    "#pragma warning disable SKEXP0060\n",
    "\n",
    "var pluginLoader = new PluginLoader(kernel);\n",
    "\n",
    "foreach (var plan in allPlans)\n",
    "{\n",
    "    Console.WriteLine($\"---\\n🗺️ Plan: {plan.Name}\");\n",
    "\n",
    "    foreach (var pluginName in plan.Plugins)\n",
    "    {\n",
    "        Console.WriteLine($\"🔌 Plugin: {pluginName}\");\n",
    "        pluginLoader.ImportPlugin(pluginName);\n",
    "    }\n",
    "    HandlebarsPlan thisPlan = new HandlebarsPlan(generatedPlanIsEditable);\n",
    "\n",
    "    var thisPlanResult = await thisPlan.InvokeAsync(kernel, new KernelArguments());\n",
    "\n",
    "    Console.WriteLine($\"\\n📤 Plan result:\\n{thisPlanResult}\\n---\\n\");\n",
    "}"
   ]
  },
  {
   "cell_type": "markdown",
   "metadata": {},
   "source": [
    "# 🗺️🧠 There's also a realtime planner called the FunctionCallingStepwisePlanner \n",
    "\n",
    "This planner is different from the handlebarsplanner in that it doesn't generate a plan ahead of time, and simply progresses towards its goal.\n",
    "\n",
    "## 🔥 We first get a kernel ready"
   ]
  },
  {
   "cell_type": "code",
   "execution_count": null,
   "metadata": {
    "dotnet_interactive": {
     "language": "csharp"
    },
    "polyglot_notebook": {
     "kernelName": "csharp"
    }
   },
   "outputs": [],
   "source": [
    "#!import Plugins/EmailPlugin.cs\n",
    "\n",
    "using Microsoft.SemanticKernel.Plugins.Core;\n",
    "using Microsoft.SemanticKernel.Planning;\n",
    "\n",
    "Kernel kernel = Kernel.CreateBuilder()\n",
    "    .AddOpenAIChatCompletion(\n",
    "        apiKey: apiKey,\n",
    "        modelId: \"gpt-3.5-turbo-1106\")\n",
    "    .Build();"
   ]
  },
  {
   "cell_type": "markdown",
   "metadata": {},
   "source": [
    "## 🔌 We then provide it a math SK Core plugin, and an inline one to simulate emailing"
   ]
  },
  {
   "cell_type": "code",
   "execution_count": null,
   "metadata": {
    "dotnet_interactive": {
     "language": "csharp"
    },
    "polyglot_notebook": {
     "kernelName": "csharp"
    }
   },
   "outputs": [],
   "source": [
    "#pragma warning disable SKEXP0050\n",
    "\n",
    "kernel.ImportPluginFromType<MathPlugin>();\n",
    "public class EmailSimPlugin\n",
    "{\n",
    "    [KernelFunction, Description(\"Given an e-mail and message body, send an email\")]\n",
    "    public string SendEmail(\n",
    "        [Description(\"The body of the email message to send.\")] string input,\n",
    "        [Description(\"The email address to send email to.\")] string email_address) {\n",
    "\n",
    "            string result = $\"Sent email to: {email_address}. Body: {input}\";\n",
    "            Console.WriteLine($\" 🔌 EmailSimPlugin>> {result}\");\n",
    "            return result;\n",
    "    }\n",
    "\n",
    "    [KernelFunction, Description(\"Given a name, find email address\")]\n",
    "    public string GetEmailAddress(\n",
    "        [Description(\"The name of the person whose email address needs to be found.\")] string input)\n",
    "    {\n",
    "        string result = input switch\n",
    "        {\n",
    "            \"Jane\" => \"janedoe4321@example.com\",\n",
    "            \"Paul\" => \"paulsmith5678@example.com\",\n",
    "            \"Mary\" => \"maryjones8765@example.com\",\n",
    "            _ => \"johndoe1234@example.com\",\n",
    "        };\n",
    "\n",
    "        Console.WriteLine($\" 🔌 EmailSimPlugin>> Getting email address {result}\");\n",
    "        return result;\n",
    "    }\n",
    "}\n",
    "kernel.ImportPluginFromType<EmailSimPlugin>();\n",
    "\n",
    "PrintAllPluginFunctions(kernel);"
   ]
  },
  {
   "cell_type": "markdown",
   "metadata": {},
   "source": [
    "## 🏃 Let's see it run"
   ]
  },
  {
   "cell_type": "code",
   "execution_count": null,
   "metadata": {
    "dotnet_interactive": {
     "language": "csharp"
    },
    "polyglot_notebook": {
     "kernelName": "csharp"
    }
   },
   "outputs": [],
   "source": [
    "#pragma warning disable SKEXP0050\n",
    "#pragma warning disable SKEXP0060\n",
    "#pragma warning disable SKEXP0061\n",
    "\n",
    "string[] questions = {\n",
    "            \"Write a limerick, translate it to Spanish, and send it to Jane\",\n",
    "            \"Mail the current time to Paul\",\n",
    "            \"What is 387 minus 22? Email the solution to John and Mary.\",\n",
    "        };\n",
    "\n",
    "var config = new FunctionCallingStepwisePlannerConfig\n",
    "{\n",
    "    MaxIterations = 15,\n",
    "    MaxTokens = 4000,\n",
    "};\n",
    "var planner = new FunctionCallingStepwisePlanner(config);\n",
    "int currentQuestion = 0;\n",
    "\n",
    "foreach (var question in questions)\n",
    "{\n",
    "    Console.WriteLine($\"🪜 Question {currentQuestion++}\\nQ: {question}\");\n",
    "    FunctionCallingStepwisePlannerResult result = await planner.ExecuteAsync(kernel, question);\n",
    "    Console.WriteLine($\"A: {result.FinalAnswer}\");\n",
    "\n",
    "    // You can uncomment the line below to see the planner's process for completing the request.\n",
    "    Console.WriteLine(Utils.WordWrap($\"Chat history:\\n{System.Text.Json.JsonSerializer.Serialize(result.ChatHistory)}\", 200));\n",
    "}"
   ]
  },
  {
   "cell_type": "markdown",
   "metadata": {},
   "source": [
    "# 🧠 Last but not least, let's look at vanilla OpenAI-style function calling"
   ]
  },
  {
   "cell_type": "markdown",
   "metadata": {},
   "source": [
    "You can disregard the Planners and simply use the OAI capability of calling functions, but still using Plugins."
   ]
  },
  {
   "cell_type": "markdown",
   "metadata": {},
   "source": [
    "## 🔥 Fire up a kernel"
   ]
  },
  {
   "cell_type": "code",
   "execution_count": null,
   "metadata": {
    "dotnet_interactive": {
     "language": "csharp"
    },
    "polyglot_notebook": {
     "kernelName": "csharp"
    }
   },
   "outputs": [],
   "source": [
    "Kernel kernel;\n",
    "\n",
    "var (useAzureOpenAI, model, azureEndpoint, apiKey, orgId) = Settings.LoadFromFile();\n",
    "\n",
    "if (useAzureOpenAI) {\n",
    "    kernel = Kernel.CreateBuilder()\n",
    "        .AddAzureOpenAIChatCompletion(model, azureEndpoint, apiKey)\n",
    "        .Build();\n",
    "} else {\n",
    "    kernel = Kernel.CreateBuilder()\n",
    "        .AddOpenAIChatCompletion(\"gpt-4-1106-preview\", apiKey, orgId)\n",
    "        .Build();\n",
    "}"
   ]
  },
  {
   "cell_type": "markdown",
   "metadata": {},
   "source": [
    "## 🔌 We make a simple plugin with C# code inline"
   ]
  },
  {
   "cell_type": "code",
   "execution_count": null,
   "metadata": {
    "dotnet_interactive": {
     "language": "csharp"
    },
    "polyglot_notebook": {
     "kernelName": "csharp"
    }
   },
   "outputs": [],
   "source": [
    "// Add a plugin with some helper functions we want to allow the model to utilize.\n",
    "kernel.ImportPluginFromFunctions(\"HelperFunctions\", new[]\n",
    "{\n",
    "    kernel.CreateFunctionFromMethod(() => DateTime.UtcNow.ToString(\"R\"), \"GetCurrentUtcTime\", \"Retrieves the current time in UTC.\"),\n",
    "    kernel.CreateFunctionFromMethod((string cityName) =>\n",
    "        cityName switch\n",
    "        {\n",
    "            \"Boston\" => \"61 and rainy\",\n",
    "            \"London\" => \"55 and cloudy\",\n",
    "            \"Miami\" => \"80 and sunny\",\n",
    "            \"Paris\" => \"60 and rainy\",\n",
    "            \"Tokyo\" => \"50 and sunny\",\n",
    "            \"Sydney\" => \"75 and sunny\",\n",
    "            \"Tel Aviv\" => \"80 and sunny\",\n",
    "            _ => \"31 and snowing\",\n",
    "        }, \"Get_Weather_For_City\", \"Gets the current weather for the specified city\"),\n",
    "});\n",
    "\n",
    "PrintAllPluginFunctions(kernel);"
   ]
  },
  {
   "cell_type": "markdown",
   "metadata": {},
   "source": [
    "## 🏃 We can then run a prompt that auto-calls the functions available in registered plugins"
   ]
  },
  {
   "cell_type": "markdown",
   "metadata": {},
   "source": [
    "⚠️ Note that if you're going to use the function-calling capabilities of the kernel, you'll need a function-calling compatible model. Please refer to [this chart](https://platform.openai.com/docs/guides/function-calling) on OpenAI's site. Make sure your kernel is using a model that supports function calling.\n",
    "\n",
    "* gpt-4\n",
    "* gpt-4-1106-preview\n",
    "* gpt-4-0613\n",
    "* gpt-3.5-turbo\n",
    "* gpt-3.5-turbo-1106\n",
    "* gpt-3.5-turbo-0613"
   ]
  },
  {
   "cell_type": "code",
   "execution_count": null,
   "metadata": {
    "dotnet_interactive": {
     "language": "csharp"
    },
    "polyglot_notebook": {
     "kernelName": "csharp"
    }
   },
   "outputs": [],
   "source": [
    "OpenAIPromptExecutionSettings settings = new() { ToolCallBehavior = ToolCallBehavior.AutoInvokeKernelFunctions };\n",
    "Console.WriteLine(await kernel.InvokePromptAsync(\"Given the current time of day and weather, what is the likely color of the sky in Boston?\", new(settings)));"
   ]
  },
  {
   "cell_type": "markdown",
   "metadata": {},
   "source": [
    "## 🏃💨 This is the same example as above, but with streaming too"
   ]
  },
  {
   "cell_type": "code",
   "execution_count": null,
   "metadata": {
    "dotnet_interactive": {
     "language": "csharp"
    },
    "polyglot_notebook": {
     "kernelName": "csharp"
    }
   },
   "outputs": [],
   "source": [
    "OpenAIPromptExecutionSettings settings = new() { ToolCallBehavior = ToolCallBehavior.AutoInvokeKernelFunctions };\n",
    "await foreach (var update in kernel.InvokePromptStreamingAsync(\"Given the current time of day and weather, what is the likely color of the sky in Boston?\", new(settings)))\n",
    "{\n",
    "    Console.Write(update);\n",
    "}"
   ]
  },
  {
   "cell_type": "markdown",
   "metadata": {},
   "source": [
    "## 🔩 This version is for folks who like to do things manually. Functions are not auto-called."
   ]
  },
  {
   "cell_type": "code",
   "execution_count": null,
   "metadata": {
    "dotnet_interactive": {
     "language": "csharp"
    },
    "polyglot_notebook": {
     "kernelName": "csharp"
    }
   },
   "outputs": [],
   "source": [
    "using System;\n",
    "using System.Collections.Generic;\n",
    "using System.Linq;\n",
    "using System.Text.Json;\n",
    "using System.Threading.Tasks;\n",
    "using Azure.AI.OpenAI;\n",
    "using Microsoft.Extensions.DependencyInjection;\n",
    "using Microsoft.Extensions.Logging;\n",
    "using Microsoft.SemanticKernel;\n",
    "using Microsoft.SemanticKernel.ChatCompletion;\n",
    "using Microsoft.SemanticKernel.Connectors.OpenAI;\n",
    "\n",
    "var chat = kernel.GetRequiredService<IChatCompletionService>();\n",
    "var chatHistory = new ChatHistory();\n",
    "\n",
    "OpenAIPromptExecutionSettings settings = new() { ToolCallBehavior = ToolCallBehavior.EnableKernelFunctions };\n",
    "chatHistory.AddUserMessage(\"Given the current time of day and weather, what is the likely color of the sky in Boston?\");\n",
    "while (true)\n",
    "{\n",
    "    var result = (OpenAIChatMessageContent)await chat.GetChatMessageContentAsync(chatHistory, settings, kernel);\n",
    "\n",
    "    if (result.Content is not null)\n",
    "    {\n",
    "        Console.Write(result.Content);\n",
    "    }\n",
    "\n",
    "    List<ChatCompletionsFunctionToolCall> toolCalls = result.ToolCalls.OfType<ChatCompletionsFunctionToolCall>().ToList();\n",
    "    if (toolCalls.Count == 0)\n",
    "    {\n",
    "        break;\n",
    "    }\n",
    "\n",
    "    chatHistory.Add(result);\n",
    "    foreach (var toolCall in toolCalls)\n",
    "    {\n",
    "        string content = kernel.Plugins.TryGetFunctionAndArguments(toolCall, out KernelFunction? function, out KernelArguments? arguments) ?\n",
    "            JsonSerializer.Serialize((await function.InvokeAsync(kernel, arguments)).GetValue<object>()) :\n",
    "            \"Unable to find function. Please try again!\";\n",
    "\n",
    "        if (function != null)\n",
    "        {\n",
    "            Console.WriteLine($\"  >> 🔌 {toolCall.Name.ToString()}: /{function.Name}\");\n",
    "        }\n",
    "\n",
    "        Console.WriteLine($\"       Result: {content}\");\n",
    "\n",
    "        chatHistory.Add(new ChatMessageContent(\n",
    "            AuthorRole.Tool,\n",
    "            content,\n",
    "            metadata: new Dictionary<string, object?>(1) { { OpenAIChatMessageContent.ToolIdProperty, toolCall.Id } }));\n",
    "    }\n",
    "}"
   ]
  }
 ],
 "metadata": {
  "kernelspec": {
   "display_name": ".NET (C#)",
   "language": "C#",
   "name": ".net-csharp"
  },
  "language_info": {
   "name": "polyglot-notebook"
  },
  "polyglot_notebook": {
   "kernelInfo": {
    "defaultKernelName": "csharp",
    "items": [
     {
      "aliases": [],
      "name": "csharp"
     }
    ]
   }
  }
 },
 "nbformat": 4,
 "nbformat_minor": 2
}

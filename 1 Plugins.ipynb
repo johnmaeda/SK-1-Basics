{
 "cells": [
  {
   "attachments": {},
   "cell_type": "markdown",
   "metadata": {},
   "source": [
    "# 🔌 Plugins 101"
   ]
  },
  {
   "cell_type": "markdown",
   "metadata": {},
   "source": [
    "## 🏁 Let's kick this off with the right packages"
   ]
  },
  {
   "cell_type": "code",
   "execution_count": 1,
   "metadata": {
    "dotnet_interactive": {
     "language": "csharp"
    },
    "polyglot_notebook": {
     "kernelName": "csharp"
    }
   },
   "outputs": [
    {
     "data": {
      "text/html": [
       "<div><div></div><div></div><div><strong>Installed Packages</strong><ul><li><span>Microsoft.Extensions.Logging.Console, 8.0.0</span></li><li><span>Microsoft.SemanticKernel, 1.1.0</span></li><li><span>Microsoft.SemanticKernel.Plugins.Core, 1.1.0-alpha</span></li></ul></div></div>"
      ]
     },
     "metadata": {},
     "output_type": "display_data"
    }
   ],
   "source": [
    "#r \"nuget: Microsoft.SemanticKernel, 1.1.0\"\n",
    "#r \"nuget: Microsoft.SemanticKernel.Plugins.Core, 1.1.0-alpha\"\n",
    "#r \"nuget: Microsoft.Extensions.Logging.Console, 8.0.0\""
   ]
  },
  {
   "cell_type": "markdown",
   "metadata": {},
   "source": [
    "## 🔥 Fire up the kernel"
   ]
  },
  {
   "cell_type": "code",
   "execution_count": null,
   "metadata": {
    "dotnet_interactive": {
     "language": "csharp"
    },
    "polyglot_notebook": {
     "kernelName": "csharp"
    }
   },
   "outputs": [],
   "source": [
    "#!import config/Settings.cs\n",
    "#!import config/Utils.cs\n",
    "\n",
    "using Microsoft.SemanticKernel;\n",
    "using Microsoft.SemanticKernel.Connectors.OpenAI;\n",
    "using Microsoft.Extensions.Logging;\n",
    "using Kernel = Microsoft.SemanticKernel.Kernel;\n",
    "\n",
    "Kernel kernel;\n",
    "\n",
    "var (useAzureOpenAI, model, azureEndpoint, apiKey, orgId) = Settings.LoadFromFile();\n",
    "\n",
    "if (useAzureOpenAI) {\n",
    "    kernel = Kernel.CreateBuilder()\n",
    "        .AddAzureOpenAIChatCompletion(model, azureEndpoint, apiKey)\n",
    "        .Build();\n",
    "} else {\n",
    "    kernel = Kernel.CreateBuilder()\n",
    "        .AddOpenAIChatCompletion(\"gpt-4-1106-preview\", apiKey, orgId)\n",
    "        .Build();\n",
    "}"
   ]
  },
  {
   "cell_type": "markdown",
   "metadata": {},
   "source": [
    "## ⌚️ Let's use a native time function from the .NET world"
   ]
  },
  {
   "cell_type": "code",
   "execution_count": null,
   "metadata": {
    "dotnet_interactive": {
     "language": "csharp"
    },
    "polyglot_notebook": {
     "kernelName": "csharp"
    }
   },
   "outputs": [],
   "source": [
    "using System.ComponentModel;\n",
    "using Microsoft.Extensions.Logging;\n",
    "using Microsoft.SemanticKernel;\n",
    "using Microsoft.SemanticKernel.Plugins.Core;\n",
    "\n",
    "public class TimeInformationPlugin\n",
    "{\n",
    "    [KernelFunction]\n",
    "    [Description(\"Retrieves the current time in UTC.\")]\n",
    "    public string GetCurrentUtcTime() => DateTime.UtcNow.ToString(\"R\");\n",
    "}\n",
    "\n",
    "kernel.ImportPluginFromType<TimeInformationPlugin>();"
   ]
  },
  {
   "cell_type": "markdown",
   "metadata": {},
   "source": [
    "Semantic code lives in the \"mind\" of the LLM. We can ground the AI in knowledge of the world outside its neural networks to know about today's date just by giving it a plugin that can access native code capabilities."
   ]
  },
  {
   "cell_type": "markdown",
   "metadata": {},
   "source": [
    "## 🪴 This simple bit of \"grounding\" reduces so-called 'hallucination' with LLMs"
   ]
  },
  {
   "cell_type": "markdown",
   "metadata": {},
   "source": [
    "In this first example, we invoke the kernel with a prompt that asks the AI for information it cannot provide. It has no idea what today might be for you, so it's likely to hallucinate."
   ]
  },
  {
   "cell_type": "code",
   "execution_count": null,
   "metadata": {
    "dotnet_interactive": {
     "language": "csharp"
    },
    "polyglot_notebook": {
     "kernelName": "csharp"
    }
   },
   "outputs": [],
   "source": [
    "Console.WriteLine(await kernel.InvokePromptAsync(\"How many days until Christmas?\"));"
   ]
  },
  {
   "cell_type": "markdown",
   "metadata": {},
   "source": [
    "We can do this with streaming, too, and keep in mind that sometimes the model is able to know what today is ... somehow."
   ]
  },
  {
   "cell_type": "code",
   "execution_count": null,
   "metadata": {
    "dotnet_interactive": {
     "language": "csharp"
    },
    "polyglot_notebook": {
     "kernelName": "csharp"
    }
   },
   "outputs": [],
   "source": [
    "// In case you want streaming, you could do it this way too\n",
    "OpenAIPromptExecutionSettings settings = new() { ToolCallBehavior = ToolCallBehavior.AutoInvokeKernelFunctions };\n",
    "await foreach (var update in kernel.InvokePromptStreamingAsync(\"How many days until Christmas?\", new(settings)))\n",
    "{\n",
    "    Console.Write(update);\n",
    "}"
   ]
  },
  {
   "cell_type": "markdown",
   "metadata": {},
   "source": [
    "In this second example, the plugin we've added `TimeInformationPlugin` is used in the templated prompt. And by doing so, you can see the LLM thinking out loud as based upon the right information to start from. By giving it a native plugin that talks to your computer, it can ascertain the time of day like a normal function that would be called on your computer."
   ]
  },
  {
   "cell_type": "code",
   "execution_count": null,
   "metadata": {
    "dotnet_interactive": {
     "language": "csharp"
    },
    "polyglot_notebook": {
     "kernelName": "csharp"
    }
   },
   "outputs": [],
   "source": [
    "Console.WriteLine(await kernel.InvokePromptAsync(\"The current time is {{TimeInformationPlugin.GetCurrentUtcTime}}. How many days until Christmas?\"));"
   ]
  },
  {
   "cell_type": "markdown",
   "metadata": {},
   "source": [
    "In this last example, we'll invoke the kernel with a prompt and allow the AI to automatically invoke functions. Note that we're hoping it will find `TimeInformationPlugin` -- but keep in mind that sometimes the LLM will 'hallucinate' the existence of a plugin that isn't out there. Weird, right?"
   ]
  },
  {
   "cell_type": "code",
   "execution_count": null,
   "metadata": {
    "dotnet_interactive": {
     "language": "csharp"
    },
    "polyglot_notebook": {
     "kernelName": "csharp"
    }
   },
   "outputs": [],
   "source": [
    "OpenAIPromptExecutionSettings settings = new() { ToolCallBehavior = ToolCallBehavior.AutoInvokeKernelFunctions };\n",
    "Console.WriteLine(await kernel.InvokePromptAsync(\"How many days until Christmas? Explain your thinking.\", new(settings)));"
   ]
  },
  {
   "cell_type": "markdown",
   "metadata": {},
   "source": [
    "## 🔌 Let's add another plugin, but this time show how to make a hybrid plugin"
   ]
  },
  {
   "cell_type": "code",
   "execution_count": null,
   "metadata": {
    "dotnet_interactive": {
     "language": "csharp"
    },
    "polyglot_notebook": {
     "kernelName": "csharp"
    }
   },
   "outputs": [],
   "source": [
    "using Microsoft.SemanticKernel.Connectors.OpenAI;\n",
    "\n",
    "public class ExampleComboPlugin\n",
    "{\n",
    "    // THIS IS A NATIVE FUNCTION WITH NO ARGUMENTS\n",
    "    [KernelFunction]\n",
    "    [Description(\"Retrieves a quote from John Maeda\")]\n",
    "    public string GetJMQuote() => \"The arts are the science of enjoying life.\";\n",
    "\n",
    "    // THIS IS A NATIVE FUNCTION WITH ARGUMENTS\n",
    "    [KernelFunction, Description(\"When bringing up math, John Maeda would say something like this\")]\n",
    "    public string JMSaysSomething(\n",
    "        [Description(\"The topic that you want him to say something about\")] string topic) =>\n",
    "        $\"John's not that clever but regarding '{topic}' he would definitely say how math and art go together.\";\n",
    "\n",
    "    // THIS IS A SEMANTIC FUNCTION WITH ARGUMENTS\n",
    "    [KernelFunction, Description(\"Takes a text and generates a John Maeda idea\")]\n",
    "    public async Task<string> JMImaginesSomething(Kernel kernel, [Description(\"The topic that you want him to say something about\")] string topic)\n",
    "    {\n",
    "        KernelArguments args = new(\n",
    "            new OpenAIPromptExecutionSettings { MaxTokens = 500, Temperature = 0.5 }) { { \"topic\", topic } };\n",
    "        var result = await kernel.InvokePromptAsync(\n",
    "            @\"In less than 140-characters, consider how John Maeda would think of how design and technology impact {{$topic}}. Output:\", args); \n",
    "        return result.ToString();\n",
    "    }\n",
    "}\n",
    "\n",
    "var comboPlugin = kernel.ImportPluginFromType<ExampleComboPlugin>();"
   ]
  },
  {
   "cell_type": "markdown",
   "metadata": {},
   "source": [
    "With SK you can directly invoke each of the functions, let's show that in action by starting with the two native functions. First we'll get the quote from John (spoiler alert: it's a native function that just returns one string and doesn't get creative)."
   ]
  },
  {
   "cell_type": "code",
   "execution_count": null,
   "metadata": {
    "dotnet_interactive": {
     "language": "csharp"
    },
    "polyglot_notebook": {
     "kernelName": "csharp"
    }
   },
   "outputs": [],
   "source": [
    "Console.WriteLine(await kernel.InvokeAsync(comboPlugin[\"GetJMQuote\"]));"
   ]
  },
  {
   "cell_type": "markdown",
   "metadata": {},
   "source": [
    "Next we'll use the native function that takes an argument. Again, don't expect anything magical to happen because it's just good old fashioned native code."
   ]
  },
  {
   "cell_type": "code",
   "execution_count": null,
   "metadata": {
    "dotnet_interactive": {
     "language": "csharp"
    },
    "polyglot_notebook": {
     "kernelName": "csharp"
    }
   },
   "outputs": [],
   "source": [
    "Console.WriteLine(await kernel.InvokeAsync(comboPlugin[\"JMSaysSomething\"], new() { [\"topic\"] = \"math\" }));\n",
    "Console.WriteLine(await kernel.InvokeAsync(comboPlugin[\"JMSaysSomething\"], new() { [\"topic\"] = DateTime.Now}));"
   ]
  },
  {
   "cell_type": "markdown",
   "metadata": {},
   "source": [
    "And for our last trick in this section, we're going to call the semantic function."
   ]
  },
  {
   "cell_type": "code",
   "execution_count": null,
   "metadata": {
    "dotnet_interactive": {
     "language": "csharp"
    },
    "polyglot_notebook": {
     "kernelName": "csharp"
    }
   },
   "outputs": [],
   "source": [
    "Console.WriteLine(await kernel.InvokeAsync(comboPlugin[\"JMImaginesSomething\"], new() { [\"topic\"] = \"flamingos\" }));"
   ]
  },
  {
   "cell_type": "markdown",
   "metadata": {},
   "source": [
    "### ☎️ Prompt calling another prompt?"
   ]
  },
  {
   "cell_type": "markdown",
   "metadata": {},
   "source": [
    "We can fluidly incorporate the results of one function into the input of another function within our prompt templating system. Here we use the semantic function to get creative, but then pass the input to the native function."
   ]
  },
  {
   "cell_type": "code",
   "execution_count": null,
   "metadata": {
    "dotnet_interactive": {
     "language": "csharp"
    },
    "polyglot_notebook": {
     "kernelName": "csharp"
    }
   },
   "outputs": [],
   "source": [
    "Console.WriteLine(await kernel.InvokePromptAsync(\"Rewrite the following in less than 5 words: {{ExampleComboPlugin.JMImaginesSomething 'igloos'}}\"));"
   ]
  },
  {
   "cell_type": "markdown",
   "metadata": {},
   "source": [
    "### ☎️ Prompt calling a prompt and native code?\n",
    "\n",
    "Keep in mind that the prompt templating language is quite flexible."
   ]
  },
  {
   "cell_type": "code",
   "execution_count": null,
   "metadata": {
    "dotnet_interactive": {
     "language": "csharp"
    },
    "polyglot_notebook": {
     "kernelName": "csharp"
    }
   },
   "outputs": [],
   "source": [
    "Console.WriteLine(await kernel.InvokePromptAsync(\"Rewrite the following in less than 15 words: {{ExampleComboPlugin.JMImaginesSomething 'venture capital funding'}} {{ExampleComboPlugin.GetJMQuote}}\"));"
   ]
  },
  {
   "cell_type": "markdown",
   "metadata": {},
   "source": [
    "## 📋 Keep in mind that the kernel keeps track of all the plugins that you register with it"
   ]
  },
  {
   "cell_type": "markdown",
   "metadata": {},
   "source": [
    "This code lets you browse the available plugins and related functions to your kernel instance."
   ]
  },
  {
   "cell_type": "code",
   "execution_count": null,
   "metadata": {
    "dotnet_interactive": {
     "language": "csharp"
    },
    "polyglot_notebook": {
     "kernelName": "csharp"
    }
   },
   "outputs": [],
   "source": [
    "static void PrintAllPluginFunctions(Kernel kernel)\n",
    "{\n",
    "    var functions = kernel.Plugins.GetFunctionsMetadata();\n",
    "\n",
    "    Console.WriteLine(\"****** Registered 🔌 Plugins and 📦 Functions ******\");\n",
    "\n",
    "    foreach (KernelFunctionMetadata func in functions)\n",
    "    {\n",
    "        PrintPluginFunction(func);\n",
    "    }\n",
    "}\n",
    "\n",
    "static void PrintPluginFunction(KernelFunctionMetadata func)\n",
    "{\n",
    "    Console.WriteLine($\"🔌 {func.PluginName}\");\n",
    "    Console.WriteLine($\"   📦 /{func.Name}: {func.Description}\");\n",
    "\n",
    "    if (func.Parameters.Count > 0)\n",
    "    {\n",
    "        Console.WriteLine(\"      📥 Params:\");\n",
    "        foreach (var p in func.Parameters)\n",
    "        {\n",
    "            Console.WriteLine($\"       • {p.Name}: {p.Description} (default: '{p.DefaultValue}')\");\n",
    "        }\n",
    "    }\n",
    "}\n",
    "\n",
    "PrintAllPluginFunctions(kernel);"
   ]
  },
  {
   "cell_type": "markdown",
   "metadata": {},
   "source": [
    "# 🔌 More plugins means the more it can go out and do for you\n",
    "\n",
    "## 🔌 This is how you would include a native plugin in a .cs file\n",
    "\n",
    "Note that you would say `using EmailPlugin` and inside the EmailPlugin.cs file you might want to set up a namespace like `namespace Plugins` but that's not what we do inside a Jupyter notebook as shown below."
   ]
  },
  {
   "cell_type": "code",
   "execution_count": null,
   "metadata": {
    "dotnet_interactive": {
     "language": "csharp"
    },
    "polyglot_notebook": {
     "kernelName": "csharp"
    }
   },
   "outputs": [],
   "source": [
    "#!import Plugins/EmailPlugin.cs\n",
    "\n",
    "var emailPlugin = kernel.ImportPluginFromType<EmailPlugin>();\n",
    "\n",
    "PrintAllPluginFunctions(kernel);"
   ]
  },
  {
   "cell_type": "markdown",
   "metadata": {},
   "source": [
    "## 🔌 This is an extremely compact, _quick_ way to make an all-native plugin"
   ]
  },
  {
   "cell_type": "markdown",
   "metadata": {},
   "source": [
    "Note that the input variable name `cityName` becomes the descriptive text used to define the kind of input variable."
   ]
  },
  {
   "cell_type": "code",
   "execution_count": null,
   "metadata": {
    "dotnet_interactive": {
     "language": "csharp"
    },
    "polyglot_notebook": {
     "kernelName": "csharp"
    }
   },
   "outputs": [],
   "source": [
    "kernel.ImportPluginFromFunctions(\"NanoPlugin\", new[]\n",
    "{\n",
    "    kernel.CreateFunctionFromMethod(() => DateTime.UtcNow.ToString(\"R\"), \"GetCurrentUtcTime\", \"Retrieves the current time in UTC.\"),\n",
    "    kernel.CreateFunctionFromMethod((string cityName) =>\n",
    "        cityName switch\n",
    "        {\n",
    "            \"Boston\" => \"61 and rainy\",\n",
    "            \"London\" => \"55 and cloudy\",\n",
    "            \"Miami\" => \"80 and sunny\",\n",
    "            \"Paris\" => \"60 and rainy\",\n",
    "            \"Tokyo\" => \"50 and sunny\",\n",
    "            \"Sydney\" => \"75 and sunny\",\n",
    "            \"Tel Aviv\" => \"80 and sunny\",\n",
    "            _ => \"31 and snowing\",\n",
    "        }, \"Get_Weather_For_City\", \"Gets the current weather for the specified city\"),\n",
    "});\n",
    "\n",
    "PrintAllPluginFunctions(kernel);"
   ]
  },
  {
   "attachments": {},
   "cell_type": "markdown",
   "metadata": {},
   "source": [
    "## 📁 We can also point it to your Plugin folder\n",
    "\n",
    "The planner needs to know what plugins are available to it. Here we'll import the `PracticePlugin` that has a semantic function inside it using the original SK prompt format."
   ]
  },
  {
   "cell_type": "code",
   "execution_count": null,
   "metadata": {
    "dotnet_interactive": {
     "language": "csharp"
    },
    "polyglot_notebook": {
     "kernelName": "csharp"
    }
   },
   "outputs": [],
   "source": [
    "var pluginsDirectory = Path.Combine(System.IO.Directory.GetCurrentDirectory(), \"Plugins\");\n",
    "\n",
    "kernel.ImportPluginFromPromptDirectory(Path.Combine(pluginsDirectory, \"PracticePlugin\"));\n",
    "PrintAllPluginFunctions(kernel);"
   ]
  },
  {
   "cell_type": "markdown",
   "metadata": {},
   "source": [
    "## 👈 Let's take a look at the emerging YAML format for prompts"
   ]
  },
  {
   "cell_type": "markdown",
   "metadata": {},
   "source": [
    "## 🏁 Let's grab the relevant packages"
   ]
  },
  {
   "cell_type": "code",
   "execution_count": null,
   "metadata": {
    "dotnet_interactive": {
     "language": "csharp"
    },
    "polyglot_notebook": {
     "kernelName": "csharp"
    }
   },
   "outputs": [],
   "source": [
    "#r \"nuget: Microsoft.SemanticKernel.PromptTemplates.Handlebars, 1.0.1\"\n",
    "#r \"nuget: Microsoft.SemanticKernel.Yaml, 1.0.1\""
   ]
  },
  {
   "cell_type": "markdown",
   "metadata": {},
   "source": [
    "## 🥱 We can load the original prompt template format in YAML"
   ]
  },
  {
   "cell_type": "code",
   "execution_count": null,
   "metadata": {
    "dotnet_interactive": {
     "language": "csharp"
    },
    "polyglot_notebook": {
     "kernelName": "csharp"
    }
   },
   "outputs": [],
   "source": [
    "using System;\n",
    "using System.Threading.Tasks;\n",
    "using Microsoft.SemanticKernel;\n",
    "using Microsoft.SemanticKernel.PromptTemplates.Handlebars;\n",
    "using System.IO;\n",
    "\n",
    "// Load prompt from resource\n",
    "var generateStoryYaml = File.ReadAllText(\"Resources/GenerateStory.yaml\");\n",
    "var function = kernel.CreateFunctionFromPromptYaml(generateStoryYaml);\n",
    "\n",
    "// Invoke the prompt function and display the result\n",
    "Console.WriteLine(await kernel.InvokeAsync(function, arguments: new()\n",
    "    {\n",
    "        { \"topic\", \"Dog\" },\n",
    "        { \"length\", \"3\" },\n",
    "    }));\n"
   ]
  },
  {
   "cell_type": "markdown",
   "metadata": {},
   "source": [
    "## 🥱🚲 And we can load it with the Handlebars option as well"
   ]
  },
  {
   "cell_type": "code",
   "execution_count": null,
   "metadata": {
    "dotnet_interactive": {
     "language": "csharp"
    },
    "polyglot_notebook": {
     "kernelName": "csharp"
    }
   },
   "outputs": [],
   "source": [
    "// Load prompt from resource\n",
    "var generateStoryHandlebarsYaml = File.ReadAllText(\"Resources/GenerateStoryHandlebars.yaml\");\n",
    "function = kernel.CreateFunctionFromPromptYaml(generateStoryHandlebarsYaml, new HandlebarsPromptTemplateFactory());\n",
    "\n",
    "// Invoke the prompt function and display the result\n",
    "Console.WriteLine(await kernel.InvokeAsync(function, arguments: new()\n",
    "    {\n",
    "        { \"topic\", \"Cat\" },\n",
    "        { \"length\", \"3\" },\n",
    "    }));"
   ]
  },
  {
   "cell_type": "markdown",
   "metadata": {},
   "source": [
    "## 🔌🤨 A plugin is essentially an organizing 🗂️ folder of functions\n"
   ]
  },
  {
   "cell_type": "markdown",
   "metadata": {},
   "source": [
    "Keep in mind that they above functions are available to the kernel, but they're NOT registered as plugins. You can verify that by noticing the function isn't being registered as an available plugin for the kernel. "
   ]
  },
  {
   "cell_type": "code",
   "execution_count": null,
   "metadata": {
    "dotnet_interactive": {
     "language": "csharp"
    },
    "polyglot_notebook": {
     "kernelName": "csharp"
    }
   },
   "outputs": [],
   "source": [
    "PrintAllPluginFunctions(kernel);"
   ]
  },
  {
   "cell_type": "markdown",
   "metadata": {},
   "source": [
    "In Semantic Kernel, plugins can hold multiple functions — that's a unique benefit that only pays dividends later when you want to organize your functions into a nicely encapsulated folder, of sorts. Errr ... plugin. You get my gist, right?"
   ]
  },
  {
   "cell_type": "markdown",
   "metadata": {},
   "source": [
    "## 🔌📦 You can turn a single function 📦 into a plugin — that's totally fine, too"
   ]
  },
  {
   "cell_type": "markdown",
   "metadata": {},
   "source": [
    "Note that the input variable names become the descriptive text used to define what kinds of input are being fed into the function."
   ]
  },
  {
   "cell_type": "code",
   "execution_count": null,
   "metadata": {
    "dotnet_interactive": {
     "language": "csharp"
    },
    "polyglot_notebook": {
     "kernelName": "csharp"
    }
   },
   "outputs": [],
   "source": [
    "var my1stFunctionAsPlugin = kernel.ImportPluginFromFunctions(\"My1stFunctionAsInstantPlugin\", new[]\n",
    "{\n",
    "    kernel.CreateFunctionFromMethod((string itemName) => { return ($\"Yes that item is {itemName} million dollars.\");}, \n",
    "        \"CalculateCost\", \n",
    "        \"Computes the cost of any named item.\"),\n",
    "});\n",
    "\n",
    "PrintAllPluginFunctions(kernel);"
   ]
  },
  {
   "cell_type": "markdown",
   "metadata": {},
   "source": [
    "We can invoke the function directly because we're holding onto it in `my1stFunctionAsPlugin`:"
   ]
  },
  {
   "cell_type": "code",
   "execution_count": null,
   "metadata": {
    "dotnet_interactive": {
     "language": "csharp"
    },
    "polyglot_notebook": {
     "kernelName": "csharp"
    }
   },
   "outputs": [],
   "source": [
    "Console.WriteLine(await kernel.InvokeAsync(my1stFunctionAsPlugin[\"CalculateCost\"], new() { [\"itemName\"] = \"potato chips\" }));"
   ]
  },
  {
   "cell_type": "markdown",
   "metadata": {},
   "source": [
    "This is an example of doing that for a semantic function, or \"templated prompt\":"
   ]
  },
  {
   "cell_type": "code",
   "execution_count": null,
   "metadata": {
    "dotnet_interactive": {
     "language": "csharp"
    },
    "polyglot_notebook": {
     "kernelName": "csharp"
    }
   },
   "outputs": [],
   "source": [
    "var my2ndFunctionAsPlugin = kernel.ImportPluginFromFunctions(\"My2ndFunctionAsInstantPlugin\", new[]\n",
    "{\n",
    "    kernel.CreateFunctionFromMethod(async (string topicDescription) => { \n",
    "         KernelArguments args = new(\n",
    "            new OpenAIPromptExecutionSettings { MaxTokens = 500, Temperature = 0.5 }) { { \"topic\", topicDescription } };\n",
    "        var result = await kernel.InvokePromptAsync(\n",
    "            @\"In less than 140-characters, consider how John Maeda would think of how design and technology impact {{$topic}}. Output:\", args); \n",
    "        return result.ToString();},\n",
    "        \"MaedaTopicSentence\", \n",
    "        \"Create a topic sentence that John Maeda would likely use.\"),\n",
    "});\n",
    "\n",
    "PrintAllPluginFunctions(kernel);"
   ]
  },
  {
   "cell_type": "markdown",
   "metadata": {},
   "source": [
    "We can invoke the function directly because we're holding onto it in `my2ndFunctionAsPlugin`:"
   ]
  },
  {
   "cell_type": "code",
   "execution_count": null,
   "metadata": {
    "dotnet_interactive": {
     "language": "csharp"
    },
    "polyglot_notebook": {
     "kernelName": "csharp"
    }
   },
   "outputs": [],
   "source": [
    "Console.WriteLine(await kernel.InvokeAsync(my2ndFunctionAsPlugin[\"MaedaTopicSentence\"], new() { [\"topicDescription\"] = \"potato chips\" }));"
   ]
  },
  {
   "cell_type": "markdown",
   "metadata": {},
   "source": [
    "Streaming tends to be the best way to invoke prompts, so:"
   ]
  },
  {
   "cell_type": "code",
   "execution_count": null,
   "metadata": {
    "dotnet_interactive": {
     "language": "csharp"
    },
    "polyglot_notebook": {
     "kernelName": "csharp"
    }
   },
   "outputs": [],
   "source": [
    "KernelArguments args = new(\n",
    "    new OpenAIPromptExecutionSettings { MaxTokens = 500, Temperature = 0.5, ToolCallBehavior = ToolCallBehavior.AutoInvokeKernelFunctions }) \n",
    "    { { \"topicDescription\", \"potato chips\" } };\n",
    "await foreach (var update in kernel.InvokeStreamingAsync(my2ndFunctionAsPlugin[\"MaedaTopicSentence\"], args))\n",
    "{\n",
    "    Console.Write(update);\n",
    "}"
   ]
  }
 ],
 "metadata": {
  "kernelspec": {
   "display_name": ".NET (C#)",
   "language": "C#",
   "name": ".net-csharp"
  },
  "language_info": {
   "name": "polyglot-notebook"
  },
  "polyglot_notebook": {
   "kernelInfo": {
    "defaultKernelName": "csharp",
    "items": [
     {
      "aliases": [],
      "name": "csharp"
     }
    ]
   }
  }
 },
 "nbformat": 4,
 "nbformat_minor": 2
}

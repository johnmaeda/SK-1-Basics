{
 "cells": [
  {
   "attachments": {},
   "cell_type": "markdown",
   "metadata": {},
   "source": [
    "Before starting we need to setup some configuration, like which AI backend to use.\n",
    "\n",
    "When using the kernel for AI requests, the kernel needs some settings like URL and\n",
    "credentials to the AI models. The SDK currently supports OpenAI and Azure OpenAI,\n",
    "other services will be added over time. If you need an Azure OpenAI key, go\n",
    "[here](https://learn.microsoft.com/en-us/azure/cognitive-services/openai/quickstart?pivots=rest-api)."
   ]
  },
  {
   "attachments": {},
   "cell_type": "markdown",
   "metadata": {},
   "source": [
    "The following code will ask a few questions and save the settings to a local\n",
    "`settings.json` configuration file, under the [config](config) folder. You can\n",
    "also edit the file manually if you prefer. **Please keep the file safe.**\n",
    "\n",
    "## Step 1\n",
    "\n",
    "First step: choose whether you want to use the notebooks with Azure OpenAI or OpenAI,\n",
    "setting the `useAzureOpenAI` boolean below."
   ]
  },
  {
   "cell_type": "code",
   "execution_count": 1,
   "metadata": {
    "dotnet_interactive": {
     "language": "csharp"
    },
    "polyglot_notebook": {
     "kernelName": "csharp"
    },
    "vscode": {
     "languageId": "polyglot-notebook"
    }
   },
   "outputs": [],
   "source": [
    "bool useAzureOpenAI = false;"
   ]
  },
  {
   "attachments": {},
   "cell_type": "markdown",
   "metadata": {},
   "source": [
    "## Step 2\n",
    "\n",
    "Run the following code. If you need to find the value and copy and paste, you can\n",
    "re-run the code and continue from where you left off."
   ]
  },
  {
   "cell_type": "code",
   "execution_count": 2,
   "metadata": {
    "dotnet_interactive": {
     "language": "csharp"
    },
    "polyglot_notebook": {
     "kernelName": "csharp"
    },
    "vscode": {
     "languageId": "polyglot-notebook"
    }
   },
   "outputs": [
    {
     "name": "stdout",
     "output_type": "stream",
     "text": [
      "Settings: OK: AI model configured [config/settings.json]\n",
      "Settings: OK: API key configured [config/settings.json]\n"
     ]
    }
   ],
   "source": [
    "#!import config/Settings.cs\n",
    "\n",
    "await Settings.AskAzureEndpoint(useAzureOpenAI);\n",
    "await Settings.AskModel(useAzureOpenAI);\n",
    "await Settings.AskApiKey(useAzureOpenAI);\n",
    "\n",
    "// Uncomment this if you're using OpenAI and need to set the Org Id\n",
    "// await Settings.AskOrg(useAzureOpenAI);"
   ]
  },
  {
   "cell_type": "markdown",
   "metadata": {},
   "source": [
    "If the code above doesn't show any error, that's a good sign! \n",
    "\n",
    "## Step 3 (optional)\n",
    "\n",
    "If you want to use speech, you need to have a `.env` file within your `config` directory that reads like:\n",
    "\n",
    "``` text\n",
    "AZURE_SPEECH_KEY=xyz\n",
    "AZURE_SPEECH_REGION=abc\n",
    "```"
   ]
  },
  {
   "attachments": {},
   "cell_type": "markdown",
   "metadata": {},
   "source": [
    "## ⚠️ Resetting the configuration\n",
    "\n",
    "If you want to reset the configuration and start again, please uncomment and run the code below.\n",
    "You can also edit the [config/settings.json](config/settings.json) manually if you prefer."
   ]
  },
  {
   "cell_type": "code",
   "execution_count": null,
   "metadata": {
    "dotnet_interactive": {
     "language": "csharp"
    },
    "polyglot_notebook": {
     "kernelName": "csharp"
    },
    "vscode": {
     "languageId": "polyglot-notebook"
    }
   },
   "outputs": [],
   "source": [
    "#!import config/Settings.cs\n",
    "\n",
    "// Uncomment this line to reset your settings and delete the file from disk.\n",
    "// Settings.Reset();"
   ]
  },
  {
   "attachments": {},
   "cell_type": "markdown",
   "metadata": {},
   "source": [
    "Now that your environment is all set up, let's dive into\n",
    "[how to do basic loading of the Semantic Kernel](01-basic-loading-the-kernel.ipynb)."
   ]
  }
 ],
 "metadata": {
  "kernelspec": {
   "display_name": ".NET (C#)",
   "language": "C#",
   "name": ".net-csharp"
  },
  "language_info": {
   "file_extension": ".cs",
   "mimetype": "text/x-csharp",
   "name": "C#",
   "pygments_lexer": "csharp",
   "version": "11.0"
  },
  "polyglot_notebook": {
   "kernelInfo": {
    "defaultKernelName": "csharp",
    "items": [
     {
      "aliases": [],
      "name": "csharp"
     }
    ]
   }
  }
 },
 "nbformat": 4,
 "nbformat_minor": 2
}
